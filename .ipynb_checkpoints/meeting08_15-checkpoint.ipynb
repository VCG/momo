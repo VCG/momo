{
 "cells": [
  {
   "cell_type": "code",
   "execution_count": 1,
   "metadata": {},
   "outputs": [
    {
     "name": "stdout",
     "output_type": "stream",
     "text": [
      "    _         _                   _       \n",
      "   / \\   _ __| | _____  _   _  __| | __ _ \n",
      "  / _ \\ | '__| |/ / _ \\| | | |/ _` |/ _` |\n",
      " / ___ \\| |  |   < (_) | |_| | (_| | (_| |\n",
      "/_/   \\_\\_|  |_|\\_\\___/ \\__,_|\\__,_|\\__,_|\n",
      "                                          \n",
      "\n",
      "Client Version: v2024.04.19\n"
     ]
    }
   ],
   "source": [
    "import arkouda as ak\n",
    "import arachne as ar\n",
    "import scipy as sp\n",
    "import networkx as nx\n",
    "import matplotlib.pyplot as plt\n",
    "import os\n",
    "from pathlib import Path\n",
    "import pandas as pd\n",
    "import numpy as np\n",
    "import navis\n",
    "from fafbseg import flywire\n",
    "from compcon.navis_api import get_flywire_neuron, get_hemibrain_neuron\n",
    "from compcon.create_graph import get_neuron, get_graph, draw_graph, get_neuron_local, overall, draw_connection, draw3d_graph\n",
    "from compcon.isomporphic_subgraphs import find_isomorphic_subgraphs\n",
    "from compcon.motif_trafo import drawing_transformation,findd, mapping_edges, back_transformation_edges, get_slabs, normalize_neuron_list, get_path, get_segment_idx_nds, motif_to_vis\n",
    "import itertools\n",
    "from skelescope.skelescope import Skelescope\n",
    "from vimosketches.src.anywidget_test import Widget"
   ]
  },
  {
   "cell_type": "code",
   "execution_count": 2,
   "metadata": {},
   "outputs": [],
   "source": [
    "# Load the CSV file into a DataFrame\n",
    "df = pd.read_csv('column_assignment.csv')\n",
    "\n",
    "# Extract root_id and column_id\n",
    "df = df[['root_id', 'column_id']]\n",
    "ids=[]\n",
    "for i in range(1):\n",
    "    ids.extend(df[df[\"column_id\"] == (i+1)][\"root_id\"].values.tolist())"
   ]
  },
  {
   "cell_type": "code",
   "execution_count": 9,
   "metadata": {},
   "outputs": [
    {
     "name": "stderr",
     "output_type": "stream",
     "text": [
      "connected to arkouda server tcp://*:5555\n",
      "disconnected from arkouda server tcp://*:5555\n"
     ]
    }
   ],
   "source": [
    "g, d, n = overall(ids[:50])"
   ]
  },
  {
   "cell_type": "code",
   "execution_count": 4,
   "metadata": {},
   "outputs": [
    {
     "data": {
      "application/vnd.jupyter.widget-view+json": {
       "model_id": "968611fdd6894455b9065f1ccac207a0",
       "version_major": 2,
       "version_minor": 1
      },
      "text/plain": [
       "Widget()"
      ]
     },
     "execution_count": 4,
     "metadata": {},
     "output_type": "execute_result"
    }
   ],
   "source": [
    "w = Widget()\n",
    "w"
   ]
  },
  {
   "cell_type": "code",
   "execution_count": 5,
   "metadata": {
    "scrolled": true
   },
   "outputs": [],
   "source": [
    "# w.motif_json"
   ]
  },
  {
   "cell_type": "code",
   "execution_count": 10,
   "metadata": {},
   "outputs": [],
   "source": [
    "motif = [{\"label\":[0,1],\"properties\":[\"neuron connection\"],\"index\":0,\"indices\":[0,1],\"tree\":None},{\"label\":[1,2],\"properties\":[\"neuron connection\"],\"index\":1,\"indices\":[1,2],\"tree\":None},{\"label\":[2,3],\"properties\":[\"neuron connection\"],\"index\":2,\"indices\":[2,3],\"tree\":None},{\"label\":[4,5],\"properties\":[\"neuron connection\"],\"index\":3,\"indices\":[4,5],\"tree\":None},{\"label\":[5,6],\"properties\":[\"neuron connection\"],\"index\":4,\"indices\":[5,6],\"tree\":None},{\"label\":[6,7],\"properties\":[\"neuron connection\"],\"index\":5,\"indices\":[6,7],\"tree\":None},{\"label\":[8,9],\"properties\":[\"synaptic connection\",[0,1],[4,5]],\"index\":6,\"indices\":[8,9],\"tree\":None},{\"label\":[10,11],\"properties\":[\"synaptic connection\",[1,2],[5,6]],\"index\":7,\"indices\":[10,11],\"tree\":None}]"
   ]
  },
  {
   "cell_type": "code",
   "execution_count": 11,
   "metadata": {},
   "outputs": [
    {
     "name": "stderr",
     "output_type": "stream",
     "text": [
      "connected to arkouda server tcp://*:5555\n",
      "disconnected from arkouda server tcp://*:5555\n"
     ]
    }
   ],
   "source": [
    "neuron_nodes, filt1, final_path, testlist = motif_to_vis(g, d, n, motif)"
   ]
  },
  {
   "cell_type": "code",
   "execution_count": 12,
   "metadata": {},
   "outputs": [
    {
     "data": {
      "application/vnd.jupyter.widget-view+json": {
       "model_id": "9d81ea4036ac48168a3fe75c73693fd8",
       "version_major": 2,
       "version_minor": 1
      },
      "text/plain": [
       "Skelescope(axis_local_primary_points=[0, 0, 0, 0, 1, 0], segments={0: {'parent_segment': -1, 'children_segment…"
      ]
     },
     "execution_count": 12,
     "metadata": {},
     "output_type": "execute_result"
    }
   ],
   "source": [
    "viewer = Skelescope()\n",
    "viewer.add_neuron(neuron_nodes, filt1, final_path, [\"green\", \"blue\"], testlist)\n",
    "viewer"
   ]
  }
 ],
 "metadata": {
  "kernelspec": {
   "display_name": "Python 3 (ipykernel)",
   "language": "python",
   "name": "python3"
  },
  "language_info": {
   "codemirror_mode": {
    "name": "ipython",
    "version": 3
   },
   "file_extension": ".py",
   "mimetype": "text/x-python",
   "name": "python",
   "nbconvert_exporter": "python",
   "pygments_lexer": "ipython3",
   "version": "3.11.9"
  }
 },
 "nbformat": 4,
 "nbformat_minor": 4
}
