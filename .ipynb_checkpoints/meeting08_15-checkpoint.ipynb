{
 "cells": [
  {
   "cell_type": "code",
   "execution_count": 1,
   "metadata": {},
   "outputs": [
    {
     "name": "stdout",
     "output_type": "stream",
     "text": [
      "    _         _                   _       \n",
      "   / \\   _ __| | _____  _   _  __| | __ _ \n",
      "  / _ \\ | '__| |/ / _ \\| | | |/ _` |/ _` |\n",
      " / ___ \\| |  |   < (_) | |_| | (_| | (_| |\n",
      "/_/   \\_\\_|  |_|\\_\\___/ \\__,_|\\__,_|\\__,_|\n",
      "                                          \n",
      "\n",
      "Client Version: v2024.04.19\n"
     ]
    }
   ],
   "source": [
    "import arkouda as ak\n",
    "import arachne as ar\n",
    "import scipy as sp\n",
    "import networkx as nx\n",
    "import matplotlib.pyplot as plt\n",
    "import os\n",
    "from pathlib import Path\n",
    "import pandas as pd\n",
    "import numpy as np\n",
    "import navis\n",
    "from fafbseg import flywire\n",
    "from compcon.navis_api import get_flywire_neuron, get_hemibrain_neuron\n",
    "from compcon.create_graph import get_neuron, get_graph, draw_graph, get_neuron_local, overall, draw_connection, draw3d_graph\n",
    "from compcon.isomporphic_subgraphs import find_isomorphic_subgraphs\n",
    "import itertools\n",
    "from skelescope.skelescope import Skelescope\n"
   ]
  },
  {
   "cell_type": "code",
   "execution_count": 2,
   "metadata": {},
   "outputs": [],
   "source": [
    "# Load the CSV file into a DataFrame\n",
    "df = pd.read_csv('column_assignment.csv')\n",
    "\n",
    "# Extract root_id and column_id\n",
    "df = df[['root_id', 'column_id']]\n",
    "ids=[]\n",
    "for i in range(1):\n",
    "    ids.extend(df[df[\"column_id\"] == (i+1)][\"root_id\"].values.tolist())"
   ]
  },
  {
   "cell_type": "code",
   "execution_count": 3,
   "metadata": {},
   "outputs": [
    {
     "data": {
      "text/plain": [
       "30"
      ]
     },
     "execution_count": 3,
     "metadata": {},
     "output_type": "execute_result"
    }
   ],
   "source": [
    "len(ids)"
   ]
  },
  {
   "cell_type": "code",
   "execution_count": 4,
   "metadata": {},
   "outputs": [
    {
     "name": "stderr",
     "output_type": "stream",
     "text": [
      "connected to arkouda server tcp://*:5555\n",
      "disconnected from arkouda server tcp://*:5555\n"
     ]
    }
   ],
   "source": [
    "g, d, n = overall(ids)"
   ]
  },
  {
   "cell_type": "markdown",
   "metadata": {},
   "source": [
    "### Node Drawing Functionality\n",
    "\n",
    "- **Circular Nodes**:  \n",
    "  - Represent branches within the neuron (denoted as `\"n\"`).\n",
    "  - The user can freely draw and position these circular nodes, forming the core structure of the neuron.\n",
    "\n",
    "- **Triangular Nodes**:  \n",
    "  - Represent synaptic connections (denoted as `\"s\"`).\n",
    "  - **Note**: Triangular nodes can only be placed on edges that connect circular nodes.\n",
    "  - The user cannot draw triangular nodes independently; they must be positioned in relation to the existing connections between circular nodes.\n",
    "\n",
    "\n",
    "### Pipeline\n",
    "\n",
    "1. **Transform Columns into New Data Structure**  \n",
    "   - Process approximately 10 columns and transfrom them into the new data structure.\n",
    "\n",
    "2. **User Drawing**  \n",
    "   - Allow the user to draw a graph representing neuron branches and synapses.\n",
    "\n",
    "3. **Convert Drawing to Data Structure**  \n",
    "   - Take the user's drawing and transform it into the new data structure.\n",
    "\n",
    "4. **Search for Motifs Using `subgraph_isomorphism`**  \n",
    "   - Apply the `subgraph_isomorphism` function to detect specific motifs in the transformed data.\n",
    "\n",
    "5. **Convert Motifs into Skeleton or Alternate View**  \n",
    "   - Transform the identified motifs from the new data structure back into a skeleton or another specified view for further analysis.\n",
    "\n",
    "6. **Display Detected Motifs**  \n",
    "   - Present the found motifs to the user for visualization.\n",
    " "
   ]
  },
  {
   "cell_type": "code",
   "execution_count": 5,
   "metadata": {},
   "outputs": [],
   "source": [
    "# given: \n",
    "branches = np.array([[1, 2], [2, 3], [3, 4], [10, 20],[20, 30], [30, 40]])\n",
    "\n",
    "neruon_id=[0,0,0, 1,1,1]\n",
    "\n",
    "branches_neuron = np.array([0, 0, 0, 1,1, 1])\n",
    "\n",
    "synapses = {\"S1\": {\n",
    "                     0: np.array([1, 2]), \n",
    "                     1: np.array([10, 20])\n",
    "                  },\n",
    "            \"S2\": {\n",
    "                     0: np.array([2, 3]), \n",
    "                     1: np.array([20, 30])\n",
    "                  },\n",
    "            \"S3\": {\n",
    "                     0: np.array([3, 4]), \n",
    "                     1: np.array([30, 40])\n",
    "                  }\n",
    "           }"
   ]
  },
  {
   "cell_type": "code",
   "execution_count": 6,
   "metadata": {},
   "outputs": [],
   "source": [
    "def test_graph_creation(edges):\n",
    "    first_elements = edges[:, 0]\n",
    "    second_elements = edges[:, 1]\n",
    "    neighbor_matrix = (first_elements[:, np.newaxis] == second_elements[np.newaxis, :])\n",
    "\n",
    "    # Step 3: Extract neighbor pairs\n",
    "    neighbor_indices = np.argwhere(neighbor_matrix)\n",
    "    neighbor_indices = neighbor_indices[neighbor_indices[:, 0] != neighbor_indices[:, 1]]\n",
    "    neighbor_pairs = edges[neighbor_indices]\n",
    "\n",
    "    # Step 4: Combine node indices to create unique identifiers for edges\n",
    "    src_combined = neighbor_pairs[:, 0, 0] * 10000 + neighbor_pairs[:, 0, 1]\n",
    "    dst_combined = neighbor_pairs[:, 1, 0] * 10000 + neighbor_pairs[:, 1, 1]\n",
    "\n",
    "    # Convert to lists for Arkouda\n",
    "    src = src_combined.astype(np.int64).tolist()\n",
    "    dst = dst_combined.astype(np.int64).tolist()\n",
    "    return src, dst"
   ]
  },
  {
   "cell_type": "code",
   "execution_count": 7,
   "metadata": {},
   "outputs": [],
   "source": [
    "def drawing_transformation(branches, synapses):\n",
    "    nodes=[]\n",
    "    branch_type= []\n",
    "    for b in branches:\n",
    "        nodes.append(b[0] * 10000 + b[1])\n",
    "\n",
    "    src, dst = test_graph_creation(branches)\n",
    "    for s in src:\n",
    "        branch_type.append(\"n\")\n",
    "\n",
    "    for s in synapses:\n",
    "        src.append(synapses[s][0][0] * 10000 + synapses[s][0][1])\n",
    "        dst.append(synapses[s][1][0] * 10000 + synapses[s][1][1])\n",
    "        branch_type.append(\"s\")\n",
    "    \n",
    "    return src, dst, branch_type"
   ]
  },
  {
   "cell_type": "code",
   "execution_count": 8,
   "metadata": {},
   "outputs": [],
   "source": [
    "def draw(src, dst, branch_type):\n",
    "    ak.connect()\n",
    "    nx_display = nx.Graph()\n",
    "    for (u, v, etype) in zip(src, dst, branch_type):\n",
    "        nx_display.add_edge(u, v, edge_type=etype)\n",
    "\n",
    "    plt.figure(figsize=(10, 10))\n",
    "\n",
    "    pos = nx.kamada_kawai_layout(nx_display)\n",
    "\n",
    "    edge_colors = [\"blue\" if nx_display[u][v]['edge_type'] == \"n\" else \"red\" if nx_display[u][v]['edge_type'] == \"s\" else \"black\" for u, v in nx_display.edges()]\n",
    "\n",
    "    nx.draw_networkx(nx_display, pos, with_labels=True, node_size=750, edge_color=edge_colors)\n",
    "    plt.show()\n",
    "    ak.disconnect()"
   ]
  },
  {
   "cell_type": "code",
   "execution_count": 9,
   "metadata": {},
   "outputs": [
    {
     "name": "stderr",
     "output_type": "stream",
     "text": [
      "connected to arkouda server tcp://*:5555\n"
     ]
    },
    {
     "data": {
      "image/png": "[encoded data removed]",
      "text/plain": [
       "<Figure size 1000x1000 with 1 Axes>"
      ]
     },
     "metadata": {},
     "output_type": "display_data"
    },
    {
     "name": "stderr",
     "output_type": "stream",
     "text": [
      "disconnected from arkouda server tcp://*:5555\n"
     ]
    }
   ],
   "source": [
    "src, dst, branch_type = drawing_transformation(branches, synapses)\n",
    "draw(src, dst, branch_type)"
   ]
  },
  {
   "cell_type": "code",
   "execution_count": 10,
   "metadata": {},
   "outputs": [
    {
     "name": "stderr",
     "output_type": "stream",
     "text": [
      "connected to arkouda server tcp://*:5555\n",
      "disconnected from arkouda server tcp://*:5555\n"
     ]
    }
   ],
   "source": [
    "dicts = {\n",
    "    \"src\": src,\n",
    "    \"dst\": dst,\n",
    "    \"connection_type\": branch_type\n",
    "    }\n",
    "\n",
    "ak.connect()\n",
    "subgraph = ar.PropGraph()\n",
    "df = ak.DataFrame(dicts)\n",
    "subgraph.load_edge_attributes(df, source_column=\"src\", destination_column=\"dst\", \n",
    "                            relationship_columns=[\"connection_type\"])\n",
    "ak.disconnect()\n"
   ]
  },
  {
   "cell_type": "code",
   "execution_count": 11,
   "metadata": {},
   "outputs": [],
   "source": [
    "def findd(g, subgraph):\n",
    "    ak.connect()\n",
    "    # find_isomorphic_subgraphs(g, subgraph)\n",
    "    src_sub, dst_sub = subgraph.edges()\n",
    "    src_sub = src_sub.to_ndarray()\n",
    "    dst_sub = dst_sub.to_ndarray()\n",
    "    isos = ar.subgraph_isomorphism(g, subgraph, semantic_check= True)\n",
    "    # print(f\"Isomorphisms found: {isos}\")\n",
    "    isos_ndarray = isos.to_ndarray()  # Convert pdarray to ndarray\n",
    "\n",
    "    # Check if the length of isomorphisms is a multiple of the number of subgraph nodes\n",
    "    if len(isos) % len(subgraph) != 0:\n",
    "        raise ValueError(\"The length of isomorphisms is not a multiple of the number of subgraph nodes.\")\n",
    "\n",
    "    subgraph_nodes = sorted(list(np.unique(np.concatenate((src_sub, dst_sub)))))\n",
    "    number_isos_found = len(isos) // len(subgraph_nodes)\n",
    "\n",
    "    # Prepare the hostgraph_nodes as a 2D array\n",
    "    hostgraph_nodes = isos_ndarray.reshape(-1, len(subgraph_nodes))\n",
    "\n",
    "    # Create all mappings at once using a list comprehension\n",
    "    all_mappings = [\n",
    "        dict(zip(subgraph_nodes, hostgraph_nodes[i]))\n",
    "        for i in range(number_isos_found)\n",
    "    ]\n",
    "\n",
    "    print(f\"Number of Mappings found: {number_isos_found}\")\n",
    "    return all_mappings"
   ]
  },
  {
   "cell_type": "code",
   "execution_count": 12,
   "metadata": {},
   "outputs": [
    {
     "name": "stderr",
     "output_type": "stream",
     "text": [
      "connected to arkouda server tcp://*:5555\n"
     ]
    },
    {
     "name": "stdout",
     "output_type": "stream",
     "text": [
      "Number of Mappings found: 1\n"
     ]
    }
   ],
   "source": [
    "m = findd(g, subgraph)"
   ]
  },
  {
   "cell_type": "code",
   "execution_count": 15,
   "metadata": {},
   "outputs": [
    {
     "data": {
      "application/vnd.jupyter.widget-view+json": {
       "model_id": "58de3732e16641038160529b94460991",
       "version_major": 2,
       "version_minor": 1
      },
      "text/plain": [
       "Skelescope(axis_local_primary_points=[0, 0, 0, 0, 1, 0], segments={0: {'parent_segment': -1, 'children_segment…"
      ]
     },
     "execution_count": 15,
     "metadata": {},
     "output_type": "execute_result"
    }
   ],
   "source": [
    "def normalize_column(column):\n",
    "    return (column) / (1000)\n",
    "\n",
    "n1, c = get_neuron_local(ids[0])\n",
    "# n1 = navis.read_swc(f'test_folder/sk_lod1_783_healed/{ids[0]}.swc')  \n",
    "# flywire.get_synapses(n1, attach=True, materialization=783)\n",
    "n1.nodes['x'] = normalize_column(n1.nodes['x'])\n",
    "n1.nodes['y'] = normalize_column(n1.nodes['y'])\n",
    "n1.nodes['z'] = normalize_column(n1.nodes['z'])\n",
    "\n",
    "n1.connectors['x'] = normalize_column(n1.connectors['x'])\n",
    "n1.connectors['y'] = normalize_column(n1.connectors['y'])\n",
    "n1.connectors['z'] = normalize_column(n1.connectors['z'])\n",
    "\n",
    "n1.nodes.radius = 0.1\n",
    "viewer = Skelescope()\n",
    "viewer.add_neuron(n1.nodes, n1.connectors, n1.segments)\n",
    "viewer"
   ]
  },
  {
   "cell_type": "code",
   "execution_count": 14,
   "metadata": {},
   "outputs": [],
   "source": [
    "n1 = navis.read_swc(f'test_folder/sk_lod1_783_healed/{ids[1]}.swc')  \n",
    "n1.nodes['x'] = normalize_column(n1.nodes['x'])\n",
    "n1.nodes['y'] = normalize_column(n1.nodes['y'])\n",
    "n1.nodes['z'] = normalize_column(n1.nodes['z'])\n",
    "n1.nodes.radius = 0.1\n"
   ]
  }
 ],
 "metadata": {
  "kernelspec": {
   "display_name": "arkouda",
   "language": "python",
   "name": "python3"
  },
  "language_info": {
   "codemirror_mode": {
    "name": "ipython",
    "version": 3
   },
   "file_extension": ".py",
   "mimetype": "text/x-python",
   "name": "python",
   "nbconvert_exporter": "python",
   "pygments_lexer": "ipython3",
   "version": "3.11.9"
  }
 },
 "nbformat": 4,
 "nbformat_minor": 2
}
