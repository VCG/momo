{
 "cells": [
  {
   "cell_type": "code",
   "execution_count": null,
   "metadata": {},
   "outputs": [],
   "source": [
    "# questions(07/04):\n",
    "# -how do we exactly construct the graph in Fig Aim 2 a based on flywire website and data available above\n",
    "\n",
    "# -isomorphism function only shows subgraphs which are identical for what are we going to use that in compconn\n",
    "# if directly want to compare two neurons then comparison based on morphology and connectivity makes sense\n",
    "# is arkouda just for storing the data structure \n",
    "\n",
    "# -hemibrain 2020 data\n",
    "\n",
    "# tasks:\n",
    "#graph with website for every neuron and then conncection \n",
    "\n",
    "#snap for synapse to skeletonpoint \n",
    "#which node they belong to \n",
    "#two types of edges branch points and international \n",
    "\n",
    "#connection drawing and arkouda \n",
    "#downsample as much as possible "
   ]
  },
  {
   "cell_type": "code",
   "execution_count": null,
   "metadata": {},
   "outputs": [],
   "source": [
    "# questions(07/11):\n",
    "# 1. direction of signal very important for graph generation. most of neurons don't have somas but roots, are they similar/ the same? graph and edge graph look very similar except reduction of one node.\n",
    "# 2. circle in graph how does the edges graph look like? (simple example 1 -> 2 -> 3-> 4 -> 1)\n",
    "# 3. always downsample? for our usecase only the branchpoints and end points are important important right?\n",
    "\n",
    "# tasks\n",
    "# 1. use prune function to just focus on the big branch\n",
    "# 2. try to find another method to create graph without iterating through nodes\n",
    "# 3. start with connectors. if it's too messy create different figs and mark the connection between neurons"
   ]
  },
  {
   "cell_type": "code",
   "execution_count": null,
   "metadata": {},
   "outputs": [],
   "source": [
    "# questions(07/18):\n",
    "# 1. is the way i fetch the neurons rn from flywire outdated? problem is get_skeletons function, it only works for materialization 630 and 783\n",
    "# i'm testing the materialization and it should work for the neuron in test nb\n",
    "\n",
    "# tasks:\n",
    "# 1. skeletons and synapse coordinates download form website snapshot for codex look into that\n",
    "# 2. small graph multiple neurons and synapses to connect subgraphs\n",
    "# 3. attach properties to nodes e.g. length of segment for bp in new graph\n",
    "# 4. then check if i can search for simple motif and mess aroudn with vimo sketches create MVP (if i find fix create pull request) "
   ]
  },
  {
   "cell_type": "code",
   "execution_count": null,
   "metadata": {},
   "outputs": [],
   "source": [
    "# questions(08/05):\n",
    "# 1. no questions just updates\n",
    "\n",
    "# tasks:\n",
    "# 1. send message from NJIT so they can implement/ enhance the isomorphic search function for searches with parameters\n",
    "# 2. try to load 100, 1000, 5000 neurons and check out the run time \n",
    "# 3. try to search for motifs and also try to visualize it maybe (debug purposes)\n",
    "# 4. don't start with the front end part yet instead act like u have the output of the vimo sketches after drawing and try to implement functions for the transition to our data structure (work from backend towards frontend)"
   ]
  },
  {
   "cell_type": "code",
   "execution_count": null,
   "metadata": {},
   "outputs": [],
   "source": [
    "# questions(08/08):\n",
    "# 1. no questions just updates\n",
    "\n",
    "# tasks:\n",
    "# 1. zuerst eine funktion die zwei neuronen als input nimmt und dann einen connection graph zeichnet (aehnlich wie die schon existierende)\n",
    "# 2. eine funktion die einen connected graphen als input nimmt und dann unseren neuen datatype generiert (reuse schon bestehende funktionen!!)\n",
    "# 3. mit dem neuen graphen dann isomorphic search machen\n",
    "# 4. den gefundenen mappings dann den neuen graphen wieder zurueck transformieren und zeigen"
   ]
  },
  {
   "cell_type": "code",
   "execution_count": null,
   "metadata": {},
   "outputs": [],
   "source": [
    "# questions(08/15):\n",
    "# 1. talk about the new data type\n",
    "# 2. should we only focus on connections and not on single nodes/ skeletons\n",
    "\n",
    "# tasks:\n",
    "# 1. "
   ]
  },
  {
   "cell_type": "code",
   "execution_count": null,
   "metadata": {},
   "outputs": [],
   "source": [
    "# Findings:\n",
    "# 1. i can also use n1.small_segments or even n1.eges\n",
    "# 2. i cannot use the following code because it only loads the model of the first self.segments initialization even though viewer.segments stores all neurons:\n",
    "# new_segments = get_segments(swc_df, segments_meta, col)\n",
    "        # # Merge the new segments with the existing ones\n",
    "        # if self.segments:\n",
    "        #     max_existing_segment_idx = max(self.segments.keys())\n",
    "        #     new_segments = {k + max_existing_segment_idx + 1: v for k, v in new_segments.items()}\n",
    "        #     self.segments.update(new_segments)\n",
    "        # else:\n",
    "        #     self.segments = new_segments\n",
    "\n",
    "# 3. right now if u select a segment itself and all of its synapses get highlighted. is it useful for our usecase? we are only interested in the neurons skeletons and the drawn motif with its skeletons and synapses\n",
    "# question: how and what do we want to present with what features. segements are alright but i'm not sure with the synapses. drawn for sure but what about the rest. "
   ]
  }
 ],
 "metadata": {
  "language_info": {
   "name": "python"
  }
 },
 "nbformat": 4,
 "nbformat_minor": 2
}
