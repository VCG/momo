{
 "cells": [
  {
   "cell_type": "code",
   "execution_count": 1,
   "metadata": {},
   "outputs": [
    {
     "name": "stdout",
     "output_type": "stream",
     "text": [
      "    _         _                   _       \n",
      "   / \\   _ __| | _____  _   _  __| | __ _ \n",
      "  / _ \\ | '__| |/ / _ \\| | | |/ _` |/ _` |\n",
      " / ___ \\| |  |   < (_) | |_| | (_| | (_| |\n",
      "/_/   \\_\\_|  |_|\\_\\___/ \\__,_|\\__,_|\\__,_|\n",
      "                                          \n",
      "\n",
      "Client Version: v2024.06.21\n"
     ]
    }
   ],
   "source": [
    "import sys\n",
    "import os\n",
    "sys.path.insert(0, os.path.abspath(\"/home/michaelshewarega/Desktop/test/arkouda\"))\n",
    "import arkouda as ak\n",
    "import arachne as ar\n",
    "import pandas as pd\n",
    "import numpy as np\n",
    "import time\n",
    "import json"
   ]
  },
  {
   "cell_type": "code",
   "execution_count": 2,
   "metadata": {},
   "outputs": [
    {
     "name": "stderr",
     "output_type": "stream",
     "text": [
      "connected to arkouda server tcp://*:5555\n"
     ]
    }
   ],
   "source": [
    "ak.connect()"
   ]
  },
  {
   "cell_type": "code",
   "execution_count": 3,
   "metadata": {},
   "outputs": [],
   "source": [
    "# These are just wedges, we do not need subgraph isomorphism for these.\n",
    "src0 = [    1,     1]\n",
    "dst0 = [10002, 10003]\n",
    "connection_type0 = ['n', 'n']\n",
    "color0 = ['b', 'b']\n",
    "\n",
    "src1 = [    1,     1, 10003, 10003]\n",
    "dst1 = [10002, 10003, 30004, 30005]\n",
    "connection_type1 = ['n', 'n', 'n', 'n']\n",
    "color1 = ['b', 'b', 'b', 'b']\n",
    "\n",
    "src2 = [    1,     1, 40005]\n",
    "dst2 = [10002, 10003,     1]\n",
    "connection_type2 = ['n', 'n', 's']\n",
    "color2 = ['b', 'b', 'b_r']\n",
    "\n",
    "src3 = [    1,     1, 40005, 40005, 50008]\n",
    "dst3 = [10002, 10003, 50008,     1, 10003]\n",
    "connection_type3 = ['n', 'n', 'n', 's', 's']\n",
    "color3 = ['b', 'b', 'r', 'b_r', 'b_r']\n",
    "\n",
    "src4 = [1, 1, 10003, 10003, 60007]\n",
    "dst4 = [10002, 10003, 30004, 30005, 1]\n",
    "connection_type4 = ['n', 'n', 'n', 'n', 's']\n",
    "color4 = ['b', 'b', 'b', 'b', 'b_r']\n",
    "\n",
    "src5 = [1, 1, 10003, 10003, 60007, 60007, 70010]\n",
    "dst5 = [10002, 10003, 30004, 30005, 70010, 1, 30005]\n",
    "connection_type5 = ['n', 'n', 'n', 'n', 'n', 's', 's']\n",
    "color5 = ['b', 'b', 'b', 'b', 'r', 'b_r',  'b_r']\n",
    "\n",
    "src6 = [1, 1, 40005, 40005, 80009, 80009, 10003, 90010]\n",
    "dst6 = [10002, 10003, 50006, 50007, 90010, 90011, 50006, 50007]\n",
    "connection_type6 = ['n', 'n', 'n', 'n', 'n', 'n', 's', 's']\n",
    "color6 = ['b', 'b', 'r', 'r', 'y', 'y', 'b_r', 'b_y']\n",
    "\n",
    "src7 = [1, 10002, 40005, 60007, 80009]\n",
    "dst7 = [10002, 20003, 1, 10002, 20003]\n",
    "connection_type7 = ['n', 'n', 's', 's', 's']\n",
    "color7 = ['b', 'b', 'b_r', 'b_y', 'r_y']\n",
    "\n",
    "subgraphs_as_list_of_tuples = [ (src0, dst0, connection_type0, color0, \"0\"),\n",
    "                                (src1, dst1, connection_type1, color1, \"1\"),\n",
    "                                (src2, dst2, connection_type2, color2, \"2\"),\n",
    "                                (src3, dst3, connection_type3, color3, \"3\"),\n",
    "                                (src4, dst4, connection_type4, color4, \"4\"),\n",
    "                                (src5, dst5, connection_type5, color5, \"5\"),\n",
    "                                (src6, dst6, connection_type6, color6, \"6\"),\n",
    "                                (src7, dst7, connection_type7, color7, \"7\")\n",
    "                            ]"
   ]
  },
  {
   "cell_type": "code",
   "execution_count": 4,
   "metadata": {},
   "outputs": [
    {
     "name": "stderr",
     "output_type": "stream",
     "text": [
      "/tmp/ipykernel_385612/3300084937.py:1: DtypeWarning: Columns (26) have mixed types. Specify dtype option on import or set low_memory=False.\n",
      "  df = pd.read_csv(\"/home/michaelshewarega/Desktop/test/OL_random_2.csv\")\n",
      "connected to arkouda server tcp://*:5555\n"
     ]
    }
   ],
   "source": [
    "df = pd.read_csv(\"/home/michaelshewarega/Desktop/test/OL_random_2.csv\")\n",
    "ak.connect()\n",
    "transformed_dataset = ak.DataFrame(df.to_dict(orient='list'))"
   ]
  },
  {
   "cell_type": "code",
   "execution_count": 5,
   "metadata": {},
   "outputs": [
    {
     "name": "stdout",
     "output_type": "stream",
     "text": [
      "Built graph with 667711 vertices and 962796 edges\n"
     ]
    }
   ],
   "source": [
    "g = ar.PropGraph()\n",
    "g.load_edge_attributes(transformed_dataset, source_column=\"src\", destination_column=\"dst\", \n",
    "                            relationship_columns=[\"s_bef\", \"s_bef_x\", \"s_bef_y\", \"s_bef_z\", \"s_af\", \"s_af_x\", \n",
    "                                                    \"s_af_y\", \"s_af_z\", 's_x', \"s_y\", \"s_z\", \"s_distance\", \"d_bef\",\n",
    "                                                    \"d_bef_x\", \"d_bef_y\", \"d_bef_z\", \"d_af\", \"d_af_x\", \"d_af_y\", \"d_af_z\",\n",
    "                                                    \"d_x\", \"d_y\", \"d_z\", \"d_distance\", \"n_id\", \"connection_type\"])\n",
    "\n",
    "print(f\"Built graph with {len(g)} vertices and {g.size()} edges\")"
   ]
  },
  {
   "cell_type": "code",
   "execution_count": 13,
   "metadata": {},
   "outputs": [],
   "source": [
    "def get_mapping(g, subgraph, iso_cap):\n",
    "    # Process subgraph information for mapping after subgraph isomorphism is invoked.\n",
    "    src_sub, dst_sub = subgraph.edges()\n",
    "    src_sub = src_sub.to_ndarray()\n",
    "    dst_sub = dst_sub.to_ndarray()\n",
    "    subgraph_nodes = sorted(list(np.unique(np.concatenate((src_sub, dst_sub)))))\n",
    "\n",
    "    start = time.time()\n",
    "    if iso_cap > 0 :\n",
    "        isos = ar.subgraph_isomorphism(g, subgraph, algorithm_type=\"si\", return_isos_as=\"complete\", semantic_check=\"or\", size_limit=iso_cap)\n",
    "    else:\n",
    "        isos = ar.subgraph_isomorphism(g, subgraph, algorithm_type=\"si\", return_isos_as=\"complete\", semantic_check=\"or\")\n",
    "    end = time.time()\n",
    "    \n",
    "    # Extract the returned array information from subgraph_isomorphism.\n",
    "    isos_by_vertices = isos[0]\n",
    "    isos_by_vertices_map = isos[1]\n",
    "    isos_by_edges_src = isos[2]\n",
    "    isos_by_edges_dst = isos[3]\n",
    "\n",
    "    if len(isos_by_vertices) % len(subgraph) != 0:\n",
    "        raise ValueError(\"The length of isomorphisms is not a multiple of the number of subgraph nodes.\")\n",
    "\n",
    "    # Get the number of motifs found.\n",
    "    number_isos_found = len(isos_by_vertices) // len(subgraph_nodes)\n",
    "    print(f\"Finding {number_isos_found:_} motifs took: {end-start} seconds.\")\n",
    "\n",
    "    # Prepare the returned isomorphisms as a 2D array.\n",
    "    start = time.time()\n",
    "    isos_ndarray = isos_by_vertices.to_ndarray()\n",
    "    hostgraph_nodes = isos_ndarray.reshape(-1, len(subgraph_nodes))\n",
    "    end = time.time()\n",
    "    print(f\"Reshaping isomorphisms took: {end-start} seconds.\")\n",
    "\n",
    "    # Create all mappings at once using a list comprehension.\n",
    "    start = time.time()\n",
    "    all_mappings = [\n",
    "        {int(k): int(v) for k, v in zip(subgraph_nodes, hostgraph_nodes[i])}\n",
    "        for i in range(number_isos_found)\n",
    "    ]\n",
    "    end = time.time()\n",
    "    print(f\"Generating mappings took: {end-start} seconds.\")\n",
    "\n",
    "    return (all_mappings,(isos_by_edges_src,isos_by_edges_dst))"
   ]
  },
  {
   "cell_type": "code",
   "execution_count": 7,
   "metadata": {},
   "outputs": [],
   "source": [
    "def motif_to_viss(src, dst, connection_type, iso_cap):    \n",
    "    subgraph_dict = {\n",
    "        \"src\": src,\n",
    "        \"dst\": dst,\n",
    "        \"connection_type\": connection_type\n",
    "        }\n",
    "    \n",
    "    subgraph = ar.PropGraph()\n",
    "    df = ak.DataFrame(subgraph_dict)\n",
    "    subgraph.load_edge_attributes(df, source_column=\"src\", destination_column=\"dst\", \n",
    "                                relationship_columns=[\"connection_type\"])\n",
    "    \n",
    "    node_mapping = get_mapping(g, subgraph, iso_cap)\n",
    "    return node_mapping"
   ]
  },
  {
   "cell_type": "code",
   "execution_count": 8,
   "metadata": {},
   "outputs": [
    {
     "name": "stdout",
     "output_type": "stream",
     "text": [
      "Querying for subgraph0...\n",
      "Finding 7 motifs took: 4.513763904571533 seconds.\n",
      "Reshaping isomorphisms took: 0.0005924701690673828 seconds.\n",
      "Generating mappings took: 2.1457672119140625e-05 seconds.\n",
      "\n",
      "Querying for subgraph1...\n",
      "Finding 6 motifs took: 5.051302671432495 seconds.\n",
      "Reshaping isomorphisms took: 0.0007410049438476562 seconds.\n",
      "Generating mappings took: 3.457069396972656e-05 seconds.\n",
      "\n",
      "Querying for subgraph2...\n",
      "Finding 6 motifs took: 4.440776824951172 seconds.\n",
      "Reshaping isomorphisms took: 0.0005822181701660156 seconds.\n",
      "Generating mappings took: 2.0265579223632812e-05 seconds.\n",
      "\n",
      "Querying for subgraph3...\n",
      "Finding 5 motifs took: 4.401183605194092 seconds.\n",
      "Reshaping isomorphisms took: 0.0006394386291503906 seconds.\n",
      "Generating mappings took: 1.811981201171875e-05 seconds.\n",
      "\n",
      "Querying for subgraph4...\n",
      "Finding 6 motifs took: 4.846199989318848 seconds.\n",
      "Reshaping isomorphisms took: 0.0007688999176025391 seconds.\n",
      "Generating mappings took: 3.8623809814453125e-05 seconds.\n",
      "\n",
      "Querying for subgraph5...\n",
      "Finding 5 motifs took: 5.004322052001953 seconds.\n",
      "Reshaping isomorphisms took: 0.0006079673767089844 seconds.\n",
      "Generating mappings took: 2.288818359375e-05 seconds.\n",
      "\n",
      "Querying for subgraph6...\n",
      "Finding 5 motifs took: 5.846251726150513 seconds.\n",
      "Reshaping isomorphisms took: 0.0007255077362060547 seconds.\n",
      "Generating mappings took: 4.5299530029296875e-05 seconds.\n",
      "\n",
      "Querying for subgraph7...\n",
      "Finding 6 motifs took: 4.307898283004761 seconds.\n",
      "Reshaping isomorphisms took: 0.0005884170532226562 seconds.\n",
      "Generating mappings took: 2.1696090698242188e-05 seconds.\n",
      "\n"
     ]
    }
   ],
   "source": [
    "send_to_file = False\n",
    "all_mappings = []\n",
    "for tup in subgraphs_as_list_of_tuples:\n",
    "    subgraph_name = f\"subgraph{tup[4]}\"\n",
    "    cap = 5\n",
    "    print(f\"Querying for {subgraph_name}...\")\n",
    "    curr_mapping = motif_to_viss(tup[0], tup[1], tup[2], cap)\n",
    "    all_mappings.append(curr_mapping)\n",
    "    print()\n",
    "\n",
    "    if send_to_file:\n",
    "        filename = subgraph_name + f\"_motifs_capped_at_{cap}.json\"\n",
    "        with open(filename, \"w\") as f:\n",
    "            json.dump(curr_mapping[0], f)"
   ]
  },
  {
   "cell_type": "code",
   "execution_count": 12,
   "metadata": {},
   "outputs": [
    {
     "data": {
      "text/plain": [
       "[([1, 1], [10002, 10003], ['n', 'n'], ['b', 'b'], '0'),\n",
       " ([1, 1, 10003, 10003],\n",
       "  [10002, 10003, 30004, 30005],\n",
       "  ['n', 'n', 'n', 'n'],\n",
       "  ['b', 'b', 'b', 'b'],\n",
       "  '1'),\n",
       " ([1, 1, 40005], [10002, 10003, 1], ['n', 'n', 's'], ['b', 'b', 'b_r'], '2'),\n",
       " ([1, 1, 40005, 40005, 50008],\n",
       "  [10002, 10003, 50008, 1, 10003],\n",
       "  ['n', 'n', 'n', 's', 's'],\n",
       "  ['b', 'b', 'r', 'b_r', 'b_r'],\n",
       "  '3'),\n",
       " ([1, 1, 10003, 10003, 60007],\n",
       "  [10002, 10003, 30004, 30005, 1],\n",
       "  ['n', 'n', 'n', 'n', 's'],\n",
       "  ['b', 'b', 'b', 'b', 'b_r'],\n",
       "  '4'),\n",
       " ([1, 1, 10003, 10003, 60007, 60007, 70010],\n",
       "  [10002, 10003, 30004, 30005, 70010, 1, 30005],\n",
       "  ['n', 'n', 'n', 'n', 'n', 's', 's'],\n",
       "  ['b', 'b', 'b', 'b', 'r', 'b_r', 'b_r'],\n",
       "  '5'),\n",
       " ([1, 1, 40005, 40005, 80009, 80009, 10003, 90010],\n",
       "  [10002, 10003, 50006, 50007, 90010, 90011, 50006, 50007],\n",
       "  ['n', 'n', 'n', 'n', 'n', 'n', 's', 's'],\n",
       "  ['b', 'b', 'r', 'r', 'y', 'y', 'b_r', 'b_y'],\n",
       "  '6'),\n",
       " ([1, 10002, 40005, 60007, 80009],\n",
       "  [10002, 20003, 1, 10002, 20003],\n",
       "  ['n', 'n', 's', 's', 's'],\n",
       "  ['b', 'b', 'b_r', 'b_y', 'r_y'],\n",
       "  '7')]"
      ]
     },
     "execution_count": 12,
     "metadata": {},
     "output_type": "execute_result"
    }
   ],
   "source": [
    "subgraphs_as_list_of_tuples"
   ]
  },
  {
   "cell_type": "code",
   "execution_count": 9,
   "metadata": {},
   "outputs": [
    {
     "name": "stdout",
     "output_type": "stream",
     "text": [
      "Post processing subgraph0...\n",
      "Before post processing number of motifs found was 7 and after was 7\n",
      "\n",
      "Post processing subgraph1...\n",
      "Before post processing number of motifs found was 6 and after was 6\n",
      "\n",
      "Post processing subgraph2...\n",
      "Before post processing number of motifs found was 6 and after was 6\n",
      "\n",
      "Post processing subgraph3...\n",
      "Before post processing number of motifs found was 5 and after was 5\n",
      "\n",
      "Post processing subgraph4...\n",
      "Before post processing number of motifs found was 6 and after was 6\n",
      "\n",
      "Post processing subgraph5...\n",
      "Before post processing number of motifs found was 5 and after was 5\n",
      "\n",
      "Post processing subgraph6...\n",
      "Before post processing number of motifs found was 5 and after was 5\n",
      "\n",
      "Post processing subgraph7...\n",
      "Before post processing number of motifs found was 6 and after was 2\n",
      "\n"
     ]
    }
   ],
   "source": [
    "for tup in subgraphs_as_list_of_tuples:\n",
    "    subgraph_id = int(tup[4])\n",
    "    subgraph_name = f\"subgraph{subgraph_id}\"\n",
    "    subgraph_src = tup[0]\n",
    "    subgraph_dst = tup[1]\n",
    "    color = tup[3]\n",
    "\n",
    "    dict_to_check_against = {}\n",
    "    for c in color:\n",
    "        if c not in dict_to_check_against:\n",
    "            dict_to_check_against[c] = 1\n",
    "        else:\n",
    "            dict_to_check_against[c] += 1\n",
    "\n",
    "    print(f\"Post processing {subgraph_name}...\")\n",
    "\n",
    "    isos_by_vertices = all_mappings[subgraph_id][0]\n",
    "    isos_by_edges_src = all_mappings[subgraph_id][1][0]\n",
    "    isos_by_edges_dst = all_mappings[subgraph_id][1][1]\n",
    "    \n",
    "    num_edges_subgraph = len(subgraph_src)\n",
    "    number_isos_found = len(isos_by_edges_src) // len(subgraph_src)\n",
    "\n",
    "    indices = ak.find([isos_by_edges_src,isos_by_edges_dst],[g.edge_attributes[\"src\"], g.edge_attributes[\"dst\"]])\n",
    "    vals = g.edge_attributes[\"n_id\"][indices]\n",
    "\n",
    "    # TODO: Can the below be done with Arkouda?\n",
    "    isos_by_edges_src_ndarray = np.split(isos_by_edges_src.to_ndarray(), number_isos_found)\n",
    "    isos_by_edges_dst_ndarray = np.split(isos_by_edges_dst.to_ndarray(), number_isos_found)\n",
    "    vals_ndarray = np.split(vals.to_ndarray(), number_isos_found)\n",
    "\n",
    "    matches = 0\n",
    "    curr_mapping_id = 0\n",
    "    for src,dst,vals in zip(isos_by_edges_src_ndarray,isos_by_edges_dst_ndarray,vals_ndarray):\n",
    "        if subgraph_id == 0 or subgraph_id == 1:\n",
    "            if len(np.unique(vals)) == 1:\n",
    "                matches += 1\n",
    "                continue\n",
    "        else:\n",
    "            inner_matches = {}\n",
    "            for val in vals:\n",
    "                if val not in inner_matches:\n",
    "                    inner_matches[val] = 1\n",
    "                else:\n",
    "                    inner_matches[val] += 1\n",
    "            if sorted(inner_matches.values()) == sorted(dict_to_check_against.values()):\n",
    "                matches += 1\n",
    "            # else:\n",
    "            #     print(isos_by_vertices[curr_mapping_id])\n",
    "            #     print(src)\n",
    "            #     print(dst)\n",
    "            curr_mapping_id += 1\n",
    "\n",
    "    print(f\"Before post processing number of motifs found was {number_isos_found} and after was {matches}\")\n",
    "    print()"
   ]
  },
  {
   "cell_type": "code",
   "execution_count": 13,
   "metadata": {},
   "outputs": [
    {
     "data": {
      "text/plain": [
       "([{1: 1168310597770406,\n",
       "   10002: 639052900814641,\n",
       "   20003: 486235902793191,\n",
       "   40005: 171355985676791,\n",
       "   60007: 314633194424895,\n",
       "   80009: 1217578650836844},\n",
       "  {1: 1168310597770406,\n",
       "   10002: 639052900814641,\n",
       "   20003: 486235902793191,\n",
       "   40005: 30275063655515,\n",
       "   60007: 314633194424895,\n",
       "   80009: 1217578650836844},\n",
       "  {1: 1168310597770406,\n",
       "   10002: 639052900814641,\n",
       "   20003: 486235902793191,\n",
       "   40005: 489156294457428,\n",
       "   60007: 314633194424895,\n",
       "   80009: 1217578650836844},\n",
       "  {1: 1168310597770406,\n",
       "   10002: 639052900814641,\n",
       "   20003: 486235902793191,\n",
       "   40005: 171355985676791,\n",
       "   60007: 1210670403173151,\n",
       "   80009: 1217578650836844},\n",
       "  {1: 1168310597770406,\n",
       "   10002: 639052900814641,\n",
       "   20003: 486235902793191,\n",
       "   40005: 30275063655515,\n",
       "   60007: 1210670403173151,\n",
       "   80009: 1217578650836844},\n",
       "  {1: 1168310597770406,\n",
       "   10002: 639052900814641,\n",
       "   20003: 486235902793191,\n",
       "   40005: 489156294457428,\n",
       "   60007: 1210670403173151,\n",
       "   80009: 1217578650836844}],\n",
       " (array([1168310597770406 639052900814641 171355985676791 314633194424895 1217578650836844 1168310597770406 639052900814641 30275063655515 314633194424895 1217578650836844 1168310597770406 639052900814641 489156294457428 314633194424895 1217578650836844 1168310597770406 639052900814641 171355985676791 1210670403173151 1217578650836844 1168310597770406 639052900814641 30275063655515 1210670403173151 1217578650836844 1168310597770406 639052900814641 489156294457428 1210670403173151 1217578650836844]),\n",
       "  array([639052900814641 486235902793191 1168310597770406 639052900814641 486235902793191 639052900814641 486235902793191 1168310597770406 639052900814641 486235902793191 639052900814641 486235902793191 1168310597770406 639052900814641 486235902793191 639052900814641 486235902793191 1168310597770406 639052900814641 486235902793191 639052900814641 486235902793191 1168310597770406 639052900814641 486235902793191 639052900814641 486235902793191 1168310597770406 639052900814641 486235902793191])))"
      ]
     },
     "execution_count": 13,
     "metadata": {},
     "output_type": "execute_result"
    }
   ],
   "source": [
    "all_mappings[7]"
   ]
  },
  {
   "cell_type": "code",
   "execution_count": null,
   "metadata": {},
   "outputs": [],
   "source": []
  }
 ],
 "metadata": {
  "kernelspec": {
   "display_name": "arkouda",
   "language": "python",
   "name": "python3"
  },
  "language_info": {
   "codemirror_mode": {
    "name": "ipython",
    "version": 3
   },
   "file_extension": ".py",
   "mimetype": "text/x-python",
   "name": "python",
   "nbconvert_exporter": "python",
   "pygments_lexer": "ipython3",
   "version": "3.11.9"
  }
 },
 "nbformat": 4,
 "nbformat_minor": 2
}
