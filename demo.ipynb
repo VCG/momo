{
 "cells": [
  {
   "cell_type": "code",
   "execution_count": 2,
   "metadata": {},
   "outputs": [
    {
     "name": "stdout",
     "output_type": "stream",
     "text": [
      "    _         _                   _       \n",
      "   / \\   _ __| | _____  _   _  __| | __ _ \n",
      "  / _ \\ | '__| |/ / _ \\| | | |/ _` |/ _` |\n",
      " / ___ \\| |  |   < (_) | |_| | (_| | (_| |\n",
      "/_/   \\_\\_|  |_|\\_\\___/ \\__,_|\\__,_|\\__,_|\n",
      "                                          \n",
      "\n",
      "Client Version: v2024.04.19\n"
     ]
    }
   ],
   "source": [
    "import importlib.metadata\n",
    "import pathlib\n",
    "import pandas as pd\n",
    "import numpy as np\n",
    "import secrets\n",
    "import hashlib\n",
    "\n",
    "import anywidget\n",
    "import traitlets\n",
    "import arkouda as ak\n",
    "import arachne as ar\n",
    "import numpy as np\n",
    "import pandas as pd\n",
    "import networkx as nx\n",
    "from compcon.create_graph import get_neuron_local\n",
    "from fafbseg import flywire"
   ]
  },
  {
   "cell_type": "code",
   "execution_count": 3,
   "metadata": {},
   "outputs": [],
   "source": [
    "import arkouda as ak\n",
    "import pandas as pd\n",
    "from vimosketches.src.anywidget_test import Widget\n",
    "from skelescope.skelescope import Skelescope\n",
    "from compcon.create_graph import get_neuron, get_graph, draw_graph, get_neuron_local, overall, draw_connection, draw3d_graph\n",
    "from fafbseg import flywire"
   ]
  },
  {
   "cell_type": "code",
   "execution_count": 4,
   "metadata": {},
   "outputs": [],
   "source": [
    "def get_segment_idx_nds(final_segment_paths, paths_with_slabs):\n",
    "    offset = 0\n",
    "    highlighted_path = []\n",
    "    for path in final_segment_paths:\n",
    "        for segment_idx, segment in enumerate(path):\n",
    "            for pws in paths_with_slabs:\n",
    "                for p in pws:\n",
    "                    if segment == p:\n",
    "                        highlighted_path.append(offset + segment_idx)\n",
    "                        \n",
    "        offset += len(path)\n",
    "    return highlighted_path\n",
    "\n",
    "# This function takes two lists, `list1` (the \"host\") and `list2` (the \"sub\").\n",
    "# It checks if `list2` appears within `list1` and returns `list1` split around `list2`:\n",
    "# - Example 1: list1 = [1, 2, 3, 4], list2 = [1, 2] => Output: [2, 3, 4]\n",
    "# - Example 2: list1 = [1, 2, 3, 4], list2 = [2, 3] => Output: ([1, 2], [3, 4])\n",
    "# - Example 3: list1 = [1, 2, 3, 4], list2 = [3, 4] => Output: [1, 2, 3]\n",
    "\n",
    "def remove_subsequence_if_exists(list1, list2):\n",
    "    # Find the starting index of list2 in list1\n",
    "    n, m = len(list1), len(list2)\n",
    "    \n",
    "    # Iterate over list1 to find a matching subsequence\n",
    "    for i in range(n - m + 1):\n",
    "        if list1[i:i + m] == list2:  # Check if list2 matches list1 starting at index i\n",
    "            if i==0:\n",
    "                # print(list1[i + m-1:])\n",
    "                return list1[i + m-1:]\n",
    "            \n",
    "            if (i+m) == len(list1):\n",
    "                return list1[:i+1]\n",
    "            \n",
    "            return list1[:i+1], list1[i + m-1:]  # Remove the subsequence\n",
    "    \n",
    "    return list1\n",
    "\n",
    "def modify_neuron_segments(neuron_segments, paths_with_slabs):\n",
    "    temp_storage = []\n",
    "    for pws in paths_with_slabs:\n",
    "        for ns in neuron_segments:\n",
    "            result = remove_subsequence_if_exists(ns, pws)\n",
    "            if type(result) == tuple:\n",
    "                #FIX THE PROBLEM\n",
    "                neuron_segments[neuron_segments.index(ns)] = result[1]\n",
    "                temp_storage.append(result[0])\n",
    "            \n",
    "            else:\n",
    "                neuron_segments[neuron_segments.index(ns)] = result\n",
    "            \n",
    "    return neuron_segments+temp_storage+paths_with_slabs \n",
    "\n",
    "def get_final_segment_paths(neuron_segments, paths_with_slabs):\n",
    "    \n",
    "    final_segment_paths=[]\n",
    "    for index, path in enumerate(paths_with_slabs):\n",
    "        temp_path = []\n",
    "        temp_path = modify_neuron_segments(neuron_segments[index], path)\n",
    "        final_segment_paths.append(temp_path)\n",
    "\n",
    "    return final_segment_paths\n",
    "\n",
    "def normalize_column(column):\n",
    "    return (column) / (1000)\n",
    "\n",
    "def normalize_neuron_list(not_ds_neurons):\n",
    "    neuron_nodes = []\n",
    "    neuron_edges = []\n",
    "    neuron_segments = []\n",
    "    for n in not_ds_neurons:\n",
    "        n.nodes['x'] = normalize_column(n.nodes['x'])\n",
    "        n.nodes['y'] = normalize_column(n.nodes['y'])\n",
    "        n.nodes['z'] = normalize_column(n.nodes['z'])\n",
    "\n",
    "        # n.connectors['x'] = normalize_column(n.connectors['x'])\n",
    "        # n.connectors['y'] = normalize_column(n.connectors['y'])\n",
    "        # n.connectors['z'] = normalize_column(n.connectors['z'])\n",
    "\n",
    "        n.nodes.radius = 0.1\n",
    "        neuron_nodes.append(n.nodes)\n",
    "        neuron_edges.append(n.edges)\n",
    "        neuron_segments.append(n.segments)\n",
    "    \n",
    "    return neuron_nodes, neuron_edges, neuron_segments\n",
    "\n",
    "def get_slabs(skeleton_edges, n_ids):\n",
    "    paths_with_slabs = []\n",
    "    unique_n_ids = set(n_ids)\n",
    "    path_ids = []\n",
    "    not_ds_neurons = []\n",
    "\n",
    "    for index, id in enumerate(unique_n_ids):\n",
    "        n = get_neuron_local(id, 3000)\n",
    "        nx_display = nx.Graph()\n",
    "        nx_display.add_edges_from(n.edges)\n",
    "        \n",
    "        shortest_path=[]\n",
    "        temp_path=[]\n",
    "        for edge_index, edge in enumerate(skeleton_edges):\n",
    "            if n_ids[edge_index]==id:\n",
    "                start_node_id = skeleton_edges[edge_index][0]\n",
    "                end_node_id = skeleton_edges[edge_index][1]\n",
    "                try:\n",
    "                    shortest_path = nx.shortest_path(nx_display, source=start_node_id, target=end_node_id, weight='weight')\n",
    "                    \n",
    "                except nx.NetworkXNoPath:\n",
    "                    print(f\"No path found between and\")\n",
    "\n",
    "                temp_path.append(shortest_path)\n",
    "                path_ids.extend([id])\n",
    "        not_ds_neurons.append(n)\n",
    "        paths_with_slabs.append(temp_path)\n",
    "    return paths_with_slabs, path_ids, not_ds_neurons\n",
    "\n",
    "def back_transformation_edges(d, src_mapped, dst_mapped):\n",
    "    skeleton_edges = []\n",
    "    neuron_ids = []\n",
    "    for i in range(len(src_mapped)):\n",
    "        df_temp = d[(d['src'] == src_mapped[i]) & (d['dst'] == dst_mapped[i])][0]\n",
    "        if df_temp[\"connection_type\"] == 'n':\n",
    "            new_element = [df_temp[\"s_bef\"], df_temp[\"s_af\"]]\n",
    "            # wenn edges in verschiedenen neurons gleiche ids haben geht das nicht!!(check if neuron_ids übereinstimmen!)\n",
    "            if new_element not in skeleton_edges:\n",
    "                skeleton_edges.append(new_element)\n",
    "                neuron_ids.append(int(df_temp[\"n_id\"]))\n",
    "\n",
    "            new_element = [df_temp[\"d_bef\"], df_temp[\"d_af\"]]\n",
    "            if new_element not in skeleton_edges:\n",
    "                skeleton_edges.append(new_element)\n",
    "                neuron_ids.append(int(df_temp[\"n_id\"]))\n",
    "\n",
    "    return skeleton_edges, neuron_ids\n",
    "\n",
    "def mapping_edges(subgraph, mapping):\n",
    "    edges = subgraph.edges()\n",
    "    src = edges[0].to_ndarray()\n",
    "    dst = edges[1].to_ndarray()\n",
    "\n",
    "    src = src.astype(str)\n",
    "    dst = dst.astype(str)\n",
    "\n",
    "    src_mapped = np.vectorize(mapping.get)(src)\n",
    "    dst_mapped = np.vectorize(mapping.get)(dst)\n",
    "\n",
    "    return src_mapped, dst_mapped\n",
    "\n",
    "def test_graph_creation(edges):\n",
    "    first_elements = edges[:, 0]\n",
    "    second_elements = edges[:, 1]\n",
    "    neighbor_matrix = (first_elements[:, np.newaxis] == second_elements[np.newaxis, :])\n",
    "\n",
    "    # Step 3: Extract neighbor pairs\n",
    "    neighbor_indices = np.argwhere(neighbor_matrix)\n",
    "    neighbor_indices = neighbor_indices[neighbor_indices[:, 0] != neighbor_indices[:, 1]]\n",
    "    neighbor_pairs = edges[neighbor_indices]\n",
    "\n",
    "    # Step 4: Combine node indices to create unique identifiers for edges\n",
    "    src_combined = neighbor_pairs[:, 0, 0] * 10000 + neighbor_pairs[:, 0, 1]\n",
    "    dst_combined = neighbor_pairs[:, 1, 0] * 10000 + neighbor_pairs[:, 1, 1]\n",
    "\n",
    "    # Convert to lists for Arkouda\n",
    "    src = src_combined.astype(np.int64).tolist()\n",
    "    dst = dst_combined.astype(np.int64).tolist()\n",
    "    return src, dst\n",
    "\n",
    "def drawing_transformation(branches, synapses):\n",
    "    nodes=[]\n",
    "    branch_type= []\n",
    "\n",
    "    for b in branches:\n",
    "        nodes.append(b[0] * 10000 + b[1])\n",
    "\n",
    "    src, dst = test_graph_creation(branches)\n",
    "    for s in src:\n",
    "        branch_type.append(\"n\")\n",
    "\n",
    "    for s in synapses:\n",
    "        src.append(s[0][0] * 10000 + s[0][1])\n",
    "        dst.append(s[1][0] * 10000 + s[1][1])\n",
    "        branch_type.append(\"s\")\n",
    "    \n",
    "    return src, dst, branch_type\n",
    "\n",
    "def overfinal(d, motif, mapping):\n",
    "    ak.connect()\n",
    "    branches, synapses = [], []\n",
    "    for m in motif:\n",
    "        if m[\"properties\"][0] == \"neuron connection\":\n",
    "            branches.append(m[\"label\"])\n",
    "            \n",
    "        if m[\"properties\"][0] == \"synaptic connection\":\n",
    "            synapses.append([m[\"properties\"][1], m[\"properties\"][2]])\n",
    "        # print(type((m[\"properties\"][0])))\n",
    "    \n",
    "    branches = np.array(branches)\n",
    "    synapses = np.array(synapses)\n",
    "\n",
    "    src, dst, branch_type = drawing_transformation(branches, synapses)\n",
    "    \n",
    "    dicts = {\n",
    "        \"src\": src,\n",
    "        \"dst\": dst,\n",
    "        \"connection_type\": branch_type\n",
    "        }\n",
    "    subgraph = ar.PropGraph()\n",
    "    df = ak.DataFrame(dicts)\n",
    "    subgraph.load_edge_attributes(df, source_column=\"src\", destination_column=\"dst\", \n",
    "                                relationship_columns=[\"connection_type\"])\n",
    "    src_mapped, dst_mapped = mapping_edges(subgraph, mapping)\n",
    "    \n",
    "    skeleton_edges, n_ids = back_transformation_edges(d, src_mapped, dst_mapped)\n",
    "   \n",
    "    paths_with_slabs, path_ids, not_ds_neurons = get_slabs(skeleton_edges, n_ids)\n",
    "    \n",
    "    neuron_nodes, neuron_edges, neuron_segments = normalize_neuron_list(not_ds_neurons)\n",
    "    \n",
    "    org_n = []\n",
    "    add_edges = []\n",
    "    \n",
    "    for nds in not_ds_neurons:\n",
    "        n = get_neuron_local(nds.id)\n",
    "        org_n.append(n)\n",
    "        # Convert sublists to tuples to use set operations\n",
    "        n_segments_set = set(map(tuple, n.edges))\n",
    "        np_segments_set = set(map(tuple, nds.edges))\n",
    "        \n",
    "        # Find the difference\n",
    "        difference_set = n_segments_set - np_segments_set\n",
    "    \n",
    "        # Convert the result back to a list of lists\n",
    "        difference = list(map(list, difference_set))\n",
    "        add_edges.append(difference)\n",
    "    \n",
    "    o_neuron_nodes, o_neuron_edges, o_neuron_segments = normalize_neuron_list(org_n)\n",
    "    \n",
    "    final_segment_paths = get_final_segment_paths(neuron_segments, paths_with_slabs)\n",
    "\n",
    "    for j in range(len(add_edges)):\n",
    "        final_segment_paths[j] = final_segment_paths[j] + add_edges[j]\n",
    "        # paths_with_slabs[j] = paths_with_slabs[j] + add_edges[j]\n",
    "        \n",
    "        \n",
    "    \n",
    "    final_segment_paths = [[j for j in i if len(j) >= 2] for i in final_segment_paths]\n",
    "    \n",
    "    highlighted_paths = get_segment_idx_nds(final_segment_paths, paths_with_slabs)\n",
    "    highlighted_paths_twigs = get_segment_idx_nds(final_segment_paths, add_edges)\n",
    "    \n",
    "    ak.disconnect()\n",
    "\n",
    "    return o_neuron_nodes, final_segment_paths, highlighted_paths, highlighted_paths_twigs"
   ]
  },
  {
   "cell_type": "code",
   "execution_count": 5,
   "metadata": {},
   "outputs": [
    {
     "name": "stderr",
     "output_type": "stream",
     "text": [
      "connected to arkouda server tcp://*:5555\n"
     ]
    }
   ],
   "source": [
    "df = pd.read_csv(\"/home/michaelshewarega/Desktop/test/demo_output.csv\")\n",
    "ak.connect()\n",
    "transformed_dataset = ak.DataFrame(df.to_dict(orient='list'))"
   ]
  },
  {
   "cell_type": "code",
   "execution_count": 6,
   "metadata": {},
   "outputs": [],
   "source": [
    "motif_json = [{'label': [0, 1],\n",
    "  'properties': ['neuron connection', '#00880A'],\n",
    "  'index': 0,\n",
    "  'indices': [0, 1],\n",
    "  'tree': None},\n",
    " {'label': [1, 2],\n",
    "  'properties': ['neuron connection', '#00880A'],\n",
    "  'index': 1,\n",
    "  'indices': [1, 2],\n",
    "  'tree': None},\n",
    " {'label': [3, 4],\n",
    "  'properties': ['neuron connection', '#003090'],\n",
    "  'index': 2,\n",
    "  'indices': [3, 4],\n",
    "  'tree': None},\n",
    " {'label': [4, 5],\n",
    "  'properties': ['neuron connection', '#003090'],\n",
    "  'index': 3,\n",
    "  'indices': [4, 5],\n",
    "  'tree': None},\n",
    " {'label': [6, 7],\n",
    "  'properties': ['synaptic connection', [1, 2], [4, 5]],\n",
    "  'index': 4,\n",
    "  'indices': [6, 7],\n",
    "  'tree': None},\n",
    " {'label': [8, 9],\n",
    "  'properties': ['synaptic connection', [0, 1], [3, 4]],\n",
    "  'index': 5,\n",
    "  'indices': [8, 9],\n",
    "  'tree': None}]\n",
    "\n",
    "# current_mapping = sketching_board.current_mapping\n",
    "current_mapping = {'1': 41793983, '10002': 39833628, '30004': 26552418, '40005': 24181930}\n"
   ]
  },
  {
   "cell_type": "code",
   "execution_count": 7,
   "metadata": {},
   "outputs": [
    {
     "data": {
      "text/plain": [
       "751428.0"
      ]
     },
     "execution_count": 7,
     "metadata": {},
     "output_type": "execute_result"
    }
   ],
   "source": [
    "transformed_dataset[(transformed_dataset[\"src\"] == 39833628) & (transformed_dataset[\"dst\"] == 24181930)][0][\"d_x\"]"
   ]
  },
  {
   "cell_type": "code",
   "execution_count": 14,
   "metadata": {},
   "outputs": [
    {
     "name": "stderr",
     "output_type": "stream",
     "text": [
      "connected to arkouda server tcp://*:5555\n",
      "disconnected from arkouda server tcp://*:5555\n",
      "connected to arkouda server tcp://*:5555\n"
     ]
    }
   ],
   "source": [
    "neuron_nodes, final_segment_paths, highlighted_paths, highlighted_paths_twigs =  overfinal(transformed_dataset, motif_json, current_mapping)\n",
    "\n",
    "ak.connect()\n",
    "x = transformed_dataset[(transformed_dataset[\"src\"] == current_mapping[\"1\"]) & (transformed_dataset[\"dst\"] == current_mapping[\"30004\"])][0][\"d_x\"]\n",
    "y = transformed_dataset[(transformed_dataset[\"src\"] == current_mapping[\"1\"]) & (transformed_dataset[\"dst\"] == current_mapping[\"30004\"])][0][\"d_y\"]\n",
    "z = transformed_dataset[(transformed_dataset[\"src\"] == current_mapping[\"1\"]) & (transformed_dataset[\"dst\"] == current_mapping[\"30004\"])][0][\"d_z\"]\n",
    "x2 = transformed_dataset[(transformed_dataset[\"src\"] == current_mapping[\"10002\"]) & (transformed_dataset[\"dst\"] == current_mapping[\"40005\"])][0][\"d_x\"]\n",
    "y2 = transformed_dataset[(transformed_dataset[\"src\"] == current_mapping[\"10002\"]) & (transformed_dataset[\"dst\"] == current_mapping[\"40005\"])][0][\"d_y\"]\n",
    "z2 = transformed_dataset[(transformed_dataset[\"src\"] == current_mapping[\"10002\"]) & (transformed_dataset[\"dst\"] == current_mapping[\"40005\"])][0][\"d_z\"]\n",
    "data = {\n",
    "    'x': [x, x2],    # Wrap the list in an extra list to create a single row\n",
    "    'y': [y, y2],\n",
    "    'z': [z, z2],\n",
    "    'type': [\"pre\", \"pre\"],\n",
    "    'node_id': [-1, -1]\n",
    "}\n",
    "\n",
    "# Create the DataFrame\n",
    "con = pd.DataFrame(data)\n",
    "con['x'] = normalize_column(con['x'])\n",
    "con['y'] = normalize_column(con['y'])\n",
    "con['z'] = normalize_column(con['z'])"
   ]
  },
  {
   "cell_type": "code",
   "execution_count": 15,
   "metadata": {},
   "outputs": [
    {
     "data": {
      "text/html": [
       "<div>\n",
       "<style scoped>\n",
       "    .dataframe tbody tr th:only-of-type {\n",
       "        vertical-align: middle;\n",
       "    }\n",
       "\n",
       "    .dataframe tbody tr th {\n",
       "        vertical-align: top;\n",
       "    }\n",
       "\n",
       "    .dataframe thead th {\n",
       "        text-align: right;\n",
       "    }\n",
       "</style>\n",
       "<table border=\"1\" class=\"dataframe\">\n",
       "  <thead>\n",
       "    <tr style=\"text-align: right;\">\n",
       "      <th></th>\n",
       "      <th>x</th>\n",
       "      <th>y</th>\n",
       "      <th>z</th>\n",
       "      <th>type</th>\n",
       "      <th>node_id</th>\n",
       "    </tr>\n",
       "  </thead>\n",
       "  <tbody>\n",
       "    <tr>\n",
       "      <th>0</th>\n",
       "      <td>754.418</td>\n",
       "      <td>204.222</td>\n",
       "      <td>145.08</td>\n",
       "      <td>pre</td>\n",
       "      <td>-1</td>\n",
       "    </tr>\n",
       "    <tr>\n",
       "      <th>1</th>\n",
       "      <td>751.428</td>\n",
       "      <td>200.194</td>\n",
       "      <td>145.54</td>\n",
       "      <td>pre</td>\n",
       "      <td>-1</td>\n",
       "    </tr>\n",
       "  </tbody>\n",
       "</table>\n",
       "</div>"
      ],
      "text/plain": [
       "         x        y       z type  node_id\n",
       "0  754.418  204.222  145.08  pre       -1\n",
       "1  751.428  200.194  145.54  pre       -1"
      ]
     },
     "execution_count": 15,
     "metadata": {},
     "output_type": "execute_result"
    }
   ],
   "source": [
    "con"
   ]
  },
  {
   "cell_type": "code",
   "execution_count": 17,
   "metadata": {},
   "outputs": [
    {
     "data": {
      "application/vnd.jupyter.widget-view+json": {
       "model_id": "1158e16c07194ef284737eb4c85c1862",
       "version_major": 2,
       "version_minor": 1
      },
      "text/plain": [
       "Skelescope(axis_local_primary_points=[0, 0, 0, 0, 1, 0], segments={0: {'parent_segment': -1, 'children_segment…"
      ]
     },
     "execution_count": 17,
     "metadata": {},
     "output_type": "execute_result"
    }
   ],
   "source": [
    "viewer = Skelescope()\n",
    "viewer.add_neuron(neuron_nodes, con, final_segment_paths, [\"green\", \"blue\", \"red\"], highlighted_paths, highlighted_paths_twigs)\n",
    "viewer"
   ]
  },
  {
   "cell_type": "code",
   "execution_count": 1,
   "metadata": {},
   "outputs": [
    {
     "ename": "NameError",
     "evalue": "name 'sketching_board' is not defined",
     "output_type": "error",
     "traceback": [
      "\u001b[0;31m---------------------------------------------------------------------------\u001b[0m",
      "\u001b[0;31mNameError\u001b[0m                                 Traceback (most recent call last)",
      "Cell \u001b[0;32mIn[1], line 1\u001b[0m\n\u001b[0;32m----> 1\u001b[0m \u001b[43msketching_board\u001b[49m\u001b[38;5;241m.\u001b[39mcurrent_mapping\n",
      "\u001b[0;31mNameError\u001b[0m: name 'sketching_board' is not defined"
     ]
    }
   ],
   "source": [
    "sketching_board.current_mapping"
   ]
  },
  {
   "cell_type": "code",
   "execution_count": 4,
   "metadata": {},
   "outputs": [
    {
     "data": {
      "application/vnd.jupyter.widget-view+json": {
       "model_id": "2d73f3c2f05c4b79902aa81b84b71051",
       "version_major": 2,
       "version_minor": 1
      },
      "text/plain": [
       "Widget()"
      ]
     },
     "execution_count": 4,
     "metadata": {},
     "output_type": "execute_result"
    }
   ],
   "source": [
    "sketching_board = Widget(arkouda_df=transformed_dataset)\n",
    "sketching_board"
   ]
  },
  {
   "cell_type": "code",
   "execution_count": 56,
   "metadata": {},
   "outputs": [],
   "source": [
    "np= get_neuron_local(720575940631103007, prune_factor=5000)\n",
    "n= get_neuron_local(720575940631103007)"
   ]
  },
  {
   "cell_type": "code",
   "execution_count": null,
   "metadata": {},
   "outputs": [],
   "source": [
    "import numpy as np\n",
    "\n",
    "# Sample data\n",
    "x_bef, y_bef, z_bef = np.array([0, 0, 0])\n",
    "x_af, y_af, z_af = np.array([10, 10, 10])\n",
    "\n",
    "# Define interpolation ratios\n",
    "ratios = np.linspace(0, 1, num=10)  # 10 evenly spaced points between 0 and 1\n",
    "\n",
    "# Generate sampling points for each coordinate\n",
    "s_x = [(r * x_bef + (1 - r) * x_af).tolist() for r in ratios]\n",
    "s_y = [(r * y_bef + (1 - r) * y_af).tolist() for r in ratios]\n",
    "s_z = [(r * z_bef + (1 - r) * z_af).tolist() for r in ratios]\n",
    "\n",
    "print(\"s_x:\", s_x)\n",
    "print(\"s_y:\", s_y)\n",
    "print(\"s_z:\", s_z)\n"
   ]
  }
 ],
 "metadata": {
  "kernelspec": {
   "display_name": "Python 3 (ipykernel)",
   "language": "python",
   "name": "python3"
  },
  "language_info": {
   "codemirror_mode": {
    "name": "ipython",
    "version": 3
   },
   "file_extension": ".py",
   "mimetype": "text/x-python",
   "name": "python",
   "nbconvert_exporter": "python",
   "pygments_lexer": "ipython3",
   "version": "3.11.9"
  }
 },
 "nbformat": 4,
 "nbformat_minor": 4
}
