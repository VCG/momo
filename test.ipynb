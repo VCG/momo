{
 "cells": [
  {
   "cell_type": "code",
   "execution_count": 6,
   "metadata": {},
   "outputs": [],
   "source": [
    "import pandas as pd\n",
    "from vimosketches.src.anywidget_test import Widget as Query_Widget\n",
    "from skelescope2.src.skelescope2 import Skelescope2 as Visualisation_Widget"
   ]
  },
  {
   "cell_type": "code",
   "execution_count": 7,
   "metadata": {},
   "outputs": [],
   "source": [
    "connectome_dataset =  pd.read_csv(\"/path_to/transformed_dataset.csv\")"
   ]
  },
  {
   "cell_type": "code",
   "execution_count": 8,
   "metadata": {},
   "outputs": [],
   "source": [
    "sketching_board = Query_Widget(connectome_dataset)\n",
    "sketching_board"
   ]
  },
  {
   "cell_type": "code",
   "execution_count": 9,
   "metadata": {
    "editable": true,
    "slideshow": {
     "slide_type": ""
    },
    "tags": []
   },
   "outputs": [],
   "source": [
    "neuron_viewer = Visualisation_Widget()\n",
    "motif = sketching_board.motif_json\n",
    "instance = sketching_board.current_mapping\n",
    "color = sketching_board.current_nodeid_color_mapping\n",
    "\n",
    "neuron_viewer.visualize_motif(connectome_dataset, motif, instance, color, 'cave')\n",
    "neuron_viewer"
   ]
  }
 ],
 "metadata": {
  "kernelspec": {
   "display_name": "Python 3 (ipykernel)",
   "language": "python",
   "name": "python3"
  },
  "language_info": {
   "codemirror_mode": {
    "name": "ipython",
    "version": 3
   },
   "file_extension": ".py",
   "mimetype": "text/x-python",
   "name": "python",
   "nbconvert_exporter": "python",
   "pygments_lexer": "ipython3",
   "version": "3.11.9"
  }
 },
 "nbformat": 4,
 "nbformat_minor": 4
}
