{
 "cells": [
  {
   "cell_type": "code",
   "execution_count": 6,
   "metadata": {},
   "outputs": [],
   "source": [
    "import pandas as pd\n",
    "from vimosketches.src.anywidget_test import Widget as Query_Widget\n",
    "from skelescope2.src.skelescope2 import Skelescope2 as Visualisation_Widget"
   ]
  },
  {
   "cell_type": "code",
   "execution_count": 7,
   "metadata": {},
   "outputs": [],
   "source": [
    "#load the transformed connectome data\n",
    "connectome_dataset =  pd.read_csv(\"/path_to/transformed_dataset.csv\")"
   ]
  },
  {
   "cell_type": "code",
   "execution_count": 8,
   "metadata": {},
   "outputs": [],
   "source": [
    "#load the Query Widget to sketch and query the desired motif\n",
    "sketching_board = Query_Widget(connectome_dataset)\n",
    "sketching_board"
   ]
  },
  {
   "cell_type": "code",
   "execution_count": 9,
   "metadata": {
    "editable": true,
    "slideshow": {
     "slide_type": ""
    },
    "tags": []
   },
   "outputs": [],
   "source": [
    "#load the Visualisation Widget to visualise the found instances of the drawn motif\n",
    "neuron_viewer = Visualisation_Widget()\n",
    "motif = sketching_board.motif_json\n",
    "instance = sketching_board.current_mapping\n",
    "color = sketching_board.current_nodeid_color_mapping\n",
    "\n",
    "neuron_viewer.visualize_motif(connectome_dataset, motif, instance, color)\n",
    "neuron_viewer"
   ]
  }
 ],
 "metadata": {
  "kernelspec": {
   "display_name": "Python 3 (ipykernel)",
   "language": "python",
   "name": "python3"
  },
  "language_info": {
   "codemirror_mode": {
    "name": "ipython",
    "version": 3
   },
   "file_extension": ".py",
   "mimetype": "text/x-python",
   "name": "python",
   "nbconvert_exporter": "python",
   "pygments_lexer": "ipython3",
   "version": "3.11.9"
  }
 },
 "nbformat": 4,
 "nbformat_minor": 4
}
